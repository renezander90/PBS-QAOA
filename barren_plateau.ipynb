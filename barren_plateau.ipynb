{
 "cells": [
  {
   "cell_type": "code",
   "execution_count": null,
   "metadata": {},
   "outputs": [],
   "source": [
    "\"\"\"\n",
    "\\********************************************************************************\n",
    "* Copyright (c) 2024 the Qrisp authors\n",
    "*\n",
    "* This program and the accompanying materials are made available under the\n",
    "* terms of the Eclipse Public License 2.0 which is available at\n",
    "* http://www.eclipse.org/legal/epl-2.0.\n",
    "*\n",
    "* This Source Code may also be made available under the following Secondary\n",
    "* Licenses when the conditions for such availability set forth in the Eclipse\n",
    "* Public License, v. 2.0 are satisfied: GNU General Public License, version 2\n",
    "* with the GNU Classpath Exception which is\n",
    "* available at https://www.gnu.org/software/classpath/license.html.\n",
    "*\n",
    "* SPDX-License-Identifier: EPL-2.0 OR GPL-2.0 WITH Classpath-exception-2.0\n",
    "********************************************************************************/\n",
    "\"\"\"\n",
    "\n",
    "from state_preparation_parametrized import *\n",
    "from qrisp.quantum_backtracking import OHQInt\n",
    "from classical_cost_func import cost_function, format_coeffs, cost_symp\n",
    "import numpy as np\n",
    "import matplotlib.pyplot as plt\n",
    "from qrisp.qaoa import *\n",
    "from encode_PBS_problem import PBS_graph, N, M, cost_coeff\n",
    "\n",
    "\n",
    "tot_coeff = format_coeffs(cost_coeff, N )\n",
    "\n",
    "qtype = OHQInt(N)\n",
    "q_array = QuantumArray(qtype = qtype, shape = (M))\n",
    "\n",
    "# Cost function as SymPy polynomial\n",
    "C,S = cost_symp(tot_coeff,M,N,PBS_graph)\n",
    "ord_symbs=list(S.values())\n",
    "\n",
    "def cost_op(q_array, gamma):\n",
    "    app_sb_phase_polynomial(q_array, C, ord_symbs, t=-gamma)\n",
    "\n",
    "# Initialization function\n",
    "init_func = pbs_state_init(PBS_graph, 0 , N)\n",
    "\n",
    "# Inverse state preparation operator\n",
    "def inv_init_func(q_array):\n",
    "    with invert():\n",
    "        init_func(q_array)\n",
    "\n",
    "# Define mixer operator\n",
    "def mixer_op(q_array, beta):\n",
    "    with conjugate(inv_init_func)(q_array):\n",
    "        for i in range(len(q_array)):\n",
    "            mcp(beta, q_array[i], ctrl_state = 0)\n",
    "\n",
    "# Classical cost function\n",
    "values = []\n",
    "cl_cost = cost_function(tot_coeff,PBS_graph,values)\n",
    "\n",
    "# Define QAOA problem\n",
    "qaoaPBS = QAOAProblem(cost_operator=cost_op ,mixer=mixer_op, cl_cost_function=cl_cost)\n",
    "qaoaPBS.set_init_function(init_func)\n",
    "depth = 2#int(np.log2(M*N))"
   ]
  },
  {
   "cell_type": "code",
   "execution_count": null,
   "metadata": {},
   "outputs": [],
   "source": [
    "circ,symbols=qaoaPBS.compile_circuit(q_array,depth)"
   ]
  },
  {
   "cell_type": "code",
   "execution_count": null,
   "metadata": {},
   "outputs": [],
   "source": [
    "def evaluate_cost(theta,symbols):\n",
    "    subs_dic = {symbols[i] : theta[i] for i in range(len(symbols))}\n",
    "    res_dic = q_array.get_measurement(subs_dic = subs_dic, precompiled_qc = circ)\n",
    "    cost = cl_cost(res_dic)\n",
    "    return cost"
   ]
  },
  {
   "cell_type": "code",
   "execution_count": null,
   "metadata": {},
   "outputs": [],
   "source": [
    "def finite_diff(theta,index,gb,eps=.2):\n",
    "    e_i = np.identity(theta.size)[:, index]\n",
    "    plus = theta + eps * e_i\n",
    "    minus = theta - eps * e_i\n",
    "    grad = (evaluate_cost(plus,gb) - evaluate_cost(minus,gb)) / (2 * eps)\n",
    "    return grad"
   ]
  },
  {
   "cell_type": "code",
   "execution_count": null,
   "metadata": {},
   "outputs": [],
   "source": [
    "\n",
    "def compute_gradients(gb, grad_func, num_samples=10):\n",
    "    grads = []\n",
    "    index = len(gb)-1 #wrt last parameter\n",
    "\n",
    "    for _ in range(num_samples): #sampling from random samples\n",
    "        theta = 2*np.pi* np.random.rand(len(gb)) \n",
    "        grad = grad_func(theta,index,gb)\n",
    "        grads.append(grad)\n",
    "    grads = np.array(grads)\n",
    "    return grads"
   ]
  },
  {
   "cell_type": "code",
   "execution_count": null,
   "metadata": {},
   "outputs": [],
   "source": [
    "gradients=compute_gradients(symbols,finite_diff,100)"
   ]
  },
  {
   "cell_type": "code",
   "execution_count": null,
   "metadata": {},
   "outputs": [],
   "source": [
    "np.var(gradients)"
   ]
  }
 ],
 "metadata": {
  "kernelspec": {
   "display_name": ".venv",
   "language": "python",
   "name": "python3"
  },
  "language_info": {
   "codemirror_mode": {
    "name": "ipython",
    "version": 3
   },
   "file_extension": ".py",
   "mimetype": "text/x-python",
   "name": "python",
   "nbconvert_exporter": "python",
   "pygments_lexer": "ipython3",
   "version": "3.9.19"
  }
 },
 "nbformat": 4,
 "nbformat_minor": 2
}
